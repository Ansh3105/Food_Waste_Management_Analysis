{
  "nbformat": 4,
  "nbformat_minor": 0,
  "metadata": {
    "colab": {
      "private_outputs": true,
      "provenance": [],
      "collapsed_sections": [
        "vncDsAP0Gaoa",
        "FJNUwmbgGyua",
        "w6K7xa23Elo4",
        "yQaldy8SH6Dl",
        "PH-0ReGfmX4f",
        "mDgbUHAGgjLW",
        "x71ZqKXriCWQ",
        "7hBIi_osiCS2",
        "JlHwYmJAmNHm",
        "35m5QtbWiB9F",
        "PoPl-ycgm1ru",
        "H0kj-8xxnORC",
        "nA9Y7ga8ng1Z",
        "PBTbrJXOngz2",
        "u3PMJOP6ngxN",
        "dauF4eBmngu3",
        "bKJF3rekwFvQ",
        "MSa1f5Uengrz",
        "GF8Ens_Soomf",
        "0wOQAZs5pc--",
        "K5QZ13OEpz2H",
        "lQ7QKXXCp7Bj",
        "448CDAPjqfQr",
        "KSlN3yHqYklG",
        "t6dVpIINYklI",
        "ijmpgYnKYklI",
        "-JiQyfWJYklI",
        "EM7whBJCYoAo",
        "fge-S5ZAYoAp",
        "85gYPyotYoAp",
        "RoGjAbkUYoAp",
        "4Of9eVA-YrdM",
        "iky9q4vBYrdO",
        "F6T5p64dYrdO",
        "y-Ehk30pYrdP",
        "bamQiAODYuh1",
        "QHF8YVU7Yuh3",
        "GwzvFGzlYuh3",
        "qYpmQ266Yuh3",
        "OH-pJp9IphqM",
        "bbFf2-_FphqN",
        "_ouA3fa0phqN",
        "Seke61FWphqN",
        "PIIx-8_IphqN",
        "t27r6nlMphqO",
        "r2jJGEOYphqO",
        "b0JNsNcRphqO",
        "BZR9WyysphqO",
        "jj7wYXLtphqO",
        "eZrbJ2SmphqO",
        "rFu4xreNphqO",
        "YJ55k-q6phqO",
        "gCFgpxoyphqP",
        "OVtJsKN_phqQ",
        "lssrdh5qphqQ",
        "U2RJ9gkRphqQ",
        "1M8mcRywphqQ",
        "tgIPom80phqQ",
        "JMzcOPDDphqR",
        "x-EpHcCOp1ci",
        "X_VqEhTip1ck",
        "8zGJKyg5p1ck",
        "PVzmfK_Ep1ck",
        "n3dbpmDWp1ck",
        "ylSl6qgtp1ck",
        "ZWILFDl5p1ck",
        "M7G43BXep1ck",
        "Ag9LCva-p1cl",
        "E6MkPsBcp1cl",
        "2cELzS2fp1cl",
        "3MPXvC8up1cl",
        "NC_X3p0fY2L0",
        "UV0SzAkaZNRQ",
        "YPEH6qLeZNRQ",
        "q29F0dvdveiT",
        "EXh0U9oCveiU",
        "22aHeOlLveiV",
        "JcMwzZxoAimU",
        "8G2x9gOozGDZ",
        "gCX9965dhzqZ",
        "gIfDvo9L0UH2"
      ]
    },
    "kernelspec": {
      "name": "python3",
      "display_name": "Python 3"
    },
    "language_info": {
      "name": "python"
    }
  },
  "cells": [
    {
      "cell_type": "markdown",
      "source": [
        "# **Project Name**    - Local Food Wastage Management System\n",
        "\n"
      ],
      "metadata": {
        "id": "vncDsAP0Gaoa"
      }
    },
    {
      "cell_type": "markdown",
      "source": [
        "##### **Project Type**    - EDA(Python) , Data Visulisation(Streamlit) , SQL\n",
        "##### **Contribution**    - Individual\n",
        "##### **Member Name -**   - Ansh Singh\n",
        "\n"
      ],
      "metadata": {
        "id": "beRrZCGUAJYm"
      }
    },
    {
      "cell_type": "markdown",
      "source": [
        "# **Project Summary -**"
      ],
      "metadata": {
        "id": "FJNUwmbgGyua"
      }
    },
    {
      "cell_type": "markdown",
      "source": [
        "The Local Food Wastage Management System is designed to address the pressing issue of surplus food disposal and the simultaneous challenge of food insecurity in communities. Every day, restaurants, grocery stores, and households discard edible food, while many individuals and organizations struggle to access adequate meals. This project creates a structured, technology-driven platform to connect surplus food providers with receivers in need, thereby minimizing waste and enhancing social good.\n",
        "\n",
        "\n",
        "---\n",
        "\n",
        "\n",
        "The system operates through four core datasets — Providers, Receivers, Food Listings, and Claims — stored and managed in an SQL database. The Providers Dataset includes details of businesses and individuals offering surplus food. The Receivers Dataset stores information on NGOs, community centers, and individuals who can claim the food. The Food Listings Dataset contains specifics of available items, quantities, expiry dates, and locations, while the Claims Dataset tracks the transaction and status of each claim.\n",
        "\n",
        "\n",
        "---\n",
        "\n",
        "\n",
        "The development process follows a structured approach:\n",
        "\n",
        "Data Preparation – Cleaning and formatting the provided datasets for accuracy and consistency.\n",
        "\n",
        "Database Creation – Implementing SQL tables to store and manage data, along with full CRUD operations for adding, updating, and removing records.\n",
        "\n",
        "Data Analysis – Leveraging SQL queries to identify food wastage trends, high-contribution providers, demand hotspots, and distribution patterns.\n",
        "\n",
        "Application Development – Building a Streamlit web interface that integrates with the SQL backend, allowing users to search, filter, and claim food, as well as view analytical insights.\n",
        "\n",
        "Deployment – Making the application accessible for real-time community use.\n",
        "\n",
        "The analytical component is powered by 15+ SQL queries addressing key business questions, such as:\n",
        "\n",
        "The most active providers and receivers by city.\n",
        "\n",
        "The highest-demand food types and meal categories.\n",
        "\n",
        "The completion rate of claims versus pending or canceled requests.\n",
        "\n",
        "Geographical distribution patterns of food donations and claims.\n",
        "\n",
        "\n",
        "---\n",
        "\n",
        "\n",
        "The Streamlit interface ensures user-friendliness by allowing filtering by city, provider, food type, and meal type, as well as displaying provider contact details for direct coordination. The platform also supports real-time updates to the database, ensuring accurate inventory management."
      ],
      "metadata": {
        "id": "F6v_1wHtG2nS"
      }
    },
    {
      "cell_type": "markdown",
      "source": [
        "# **GitHub Link -**"
      ],
      "metadata": {
        "id": "w6K7xa23Elo4"
      }
    },
    {
      "cell_type": "markdown",
      "source": [
        "https://github.com/Ansh3105/Food_Waste_Management_Analysis"
      ],
      "metadata": {
        "id": "h1o69JH3Eqqn"
      }
    },
    {
      "cell_type": "markdown",
      "source": [
        "# **Problem Statement**\n"
      ],
      "metadata": {
        "id": "yQaldy8SH6Dl"
      }
    },
    {
      "cell_type": "markdown",
      "source": [
        "Large amounts of edible food are wasted daily by restaurants, stores, and households, while many people face hunger. The lack of a real-time, structured system to connect surplus food providers with those in need leads to missed opportunities for redistribution. This project addresses the gap by creating a digital platform to list, claim, and track surplus food, reducing waste and supporting food-insecure communities."
      ],
      "metadata": {
        "id": "DpeJGUA3kjGy"
      }
    },
    {
      "cell_type": "markdown",
      "source": [
        "#### **Define Your Business Objective?**"
      ],
      "metadata": {
        "id": "PH-0ReGfmX4f"
      }
    },
    {
      "cell_type": "markdown",
      "source": [
        "Enable seamless connectivity between surplus food providers (e.g., restaurants, grocery stores, households) and receivers (e.g., NGOs, community centers, individuals) through a centralized platform.\n",
        "\n",
        "\n",
        "---\n",
        "\n",
        "\n",
        "Ensure timely distribution by integrating real-time listing, claiming, and tracking functionalities to prevent food spoilage.\n",
        "\n",
        "\n",
        "---\n",
        "\n",
        "\n",
        "Provide actionable insights through SQL-based analysis of food donation trends, high-demand areas, and wastage patterns to improve future distribution strategies.\n",
        "\n",
        "\n",
        "---\n",
        "\n",
        "\n",
        "Enhance accessibility via filtering, geolocation features, and direct contact options within the user interface.\n",
        "\n",
        "\n",
        "---\n",
        "\n",
        "\n",
        "Support sustainability goals by reducing landfill waste, lowering environmental impact, and contributing to social good."
      ],
      "metadata": {
        "id": "PhDvGCAqmjP1"
      }
    },
    {
      "cell_type": "markdown",
      "source": [
        "# ***Let's Begin !***"
      ],
      "metadata": {
        "id": "O_i_v8NEhb9l"
      }
    },
    {
      "cell_type": "markdown",
      "source": [
        "## ***1. Know Your Data***"
      ],
      "metadata": {
        "id": "HhfV-JJviCcP"
      }
    },
    {
      "cell_type": "markdown",
      "source": [
        "### Import Libraries"
      ],
      "metadata": {
        "id": "Y3lxredqlCYt"
      }
    },
    {
      "cell_type": "code",
      "source": [
        "# Import Libraries\n",
        "import numpy as np\n",
        "import pandas as pd\n",
        "import matplotlib.pyplot as plt\n",
        "import plotly.express as px\n",
        "import seaborn as sns\n",
        "import re"
      ],
      "metadata": {
        "id": "M8Vqi-pPk-HR"
      },
      "execution_count": null,
      "outputs": []
    },
    {
      "cell_type": "markdown",
      "source": [
        "### Dataset Loading"
      ],
      "metadata": {
        "id": "3RnN4peoiCZX"
      }
    },
    {
      "cell_type": "code",
      "source": [
        "df_provider = pd.read_csv('providers_data.csv')\n",
        "df_claims = pd.read_csv('claims_data.csv')\n",
        "df_list = pd.read_csv('food_listings_data.csv')\n",
        "df_recievers = pd.read_csv('receivers_data.csv')\n",
        "\n"
      ],
      "metadata": {
        "id": "YeB9Cp5hA4uc"
      },
      "execution_count": null,
      "outputs": []
    },
    {
      "cell_type": "markdown",
      "source": [
        "### Dataset First View"
      ],
      "metadata": {
        "id": "x71ZqKXriCWQ"
      }
    },
    {
      "cell_type": "code",
      "source": [
        "# Dataset First Look\n",
        "\n",
        "df_provider\n"
      ],
      "metadata": {
        "id": "LWNFOSvLl09H"
      },
      "execution_count": null,
      "outputs": []
    },
    {
      "cell_type": "code",
      "source": [
        "df_claims\n",
        "\n"
      ],
      "metadata": {
        "id": "5Kdt5DMgOyAt"
      },
      "execution_count": null,
      "outputs": []
    },
    {
      "cell_type": "code",
      "source": [
        "df_list\n",
        "\n"
      ],
      "metadata": {
        "id": "lQOlZR6MO3Iw"
      },
      "execution_count": null,
      "outputs": []
    },
    {
      "cell_type": "code",
      "source": [
        "df_recievers\n",
        "\n"
      ],
      "metadata": {
        "id": "V-gFpqvlO8OV"
      },
      "execution_count": null,
      "outputs": []
    },
    {
      "cell_type": "markdown",
      "source": [
        "### Dataset Rows & Columns count"
      ],
      "metadata": {
        "id": "7hBIi_osiCS2"
      }
    },
    {
      "cell_type": "code",
      "source": [
        "# Dataset Rows & Columns count for provider dataset\n",
        "rows, columns =df_provider.shape\n",
        "print(f\"Total Rows: {rows}\")\n",
        "print(f\"Total Columns: {columns}\")\n",
        "\n"
      ],
      "metadata": {
        "id": "Kllu7SJgmLij"
      },
      "execution_count": null,
      "outputs": []
    },
    {
      "cell_type": "code",
      "source": [
        "# Dataset Rows & Columns count for claims dataset\n",
        "rows, columns =df_claims.shape\n",
        "print(f\"Total Rows: {rows}\")\n",
        "print(f\"Total Columns: {columns}\")\n",
        "\n"
      ],
      "metadata": {
        "id": "oHMPrsmOPL67"
      },
      "execution_count": null,
      "outputs": []
    },
    {
      "cell_type": "code",
      "source": [
        "# Dataset Rows & Columns count for listings dataset\n",
        "rows, columns =df_list.shape\n",
        "print(f\"Total Rows: {rows}\")\n",
        "print(f\"Total Columns: {columns}\")\n",
        "\n"
      ],
      "metadata": {
        "id": "T9S2Eyr0PO58"
      },
      "execution_count": null,
      "outputs": []
    },
    {
      "cell_type": "code",
      "source": [
        "# Dataset Rows & Columns count for receivers dataset\n",
        "rows, columns =df_recievers.shape\n",
        "print(f\"Total Rows: {rows}\")\n",
        "print(f\"Total Columns: {columns}\")\n",
        "\n"
      ],
      "metadata": {
        "id": "BgATMMCHPTmw"
      },
      "execution_count": null,
      "outputs": []
    },
    {
      "cell_type": "markdown",
      "source": [
        "### Dataset Information"
      ],
      "metadata": {
        "id": "JlHwYmJAmNHm"
      }
    },
    {
      "cell_type": "code",
      "source": [
        "# Dataset Info for provider dataset\n",
        "df_provider.info()"
      ],
      "metadata": {
        "id": "e9hRXRi6meOf"
      },
      "execution_count": null,
      "outputs": []
    },
    {
      "cell_type": "code",
      "source": [
        "# Dataset Info for claims dataset\n",
        "df_claims.info()"
      ],
      "metadata": {
        "id": "G1NRuNfDPpaE"
      },
      "execution_count": null,
      "outputs": []
    },
    {
      "cell_type": "code",
      "source": [
        "# Dataset Info for listings dataset\n",
        "df_list.info()"
      ],
      "metadata": {
        "id": "B-bKlEMcPrxC"
      },
      "execution_count": null,
      "outputs": []
    },
    {
      "cell_type": "code",
      "source": [
        "# Dataset Info for receivers dataset\n",
        "df_recievers.info()"
      ],
      "metadata": {
        "id": "Fr3SpbXZPuQd"
      },
      "execution_count": null,
      "outputs": []
    },
    {
      "cell_type": "markdown",
      "source": [
        "#### Duplicate Values"
      ],
      "metadata": {
        "id": "35m5QtbWiB9F"
      }
    },
    {
      "cell_type": "code",
      "source": [
        "# Dataset Duplicate Value Count for provider dataset\n",
        "print(\"Total Duplicates:\", df_provider.duplicated().sum())\n"
      ],
      "metadata": {
        "id": "1sLdpKYkmox0"
      },
      "execution_count": null,
      "outputs": []
    },
    {
      "cell_type": "code",
      "source": [
        "# Dataset Duplicate Value Count for claims dataset\n",
        "print(\"Total Duplicates:\", df_claims.duplicated().sum())\n"
      ],
      "metadata": {
        "id": "rIaMQoKWQNaH"
      },
      "execution_count": null,
      "outputs": []
    },
    {
      "cell_type": "code",
      "source": [
        "# Dataset Duplicate Value Count for listings dataset\n",
        "print(\"Total Duplicates:\", df_list.duplicated().sum())\n"
      ],
      "metadata": {
        "id": "O9XpPk1-QWp_"
      },
      "execution_count": null,
      "outputs": []
    },
    {
      "cell_type": "code",
      "source": [
        "# Dataset Duplicate Value Count for receivers dataset\n",
        "print(\"Total Duplicates:\", df_recievers.duplicated().sum())\n"
      ],
      "metadata": {
        "id": "X7KZmxoXQc8S"
      },
      "execution_count": null,
      "outputs": []
    },
    {
      "cell_type": "markdown",
      "source": [
        "#### Missing Values/Null Values"
      ],
      "metadata": {
        "id": "PoPl-ycgm1ru"
      }
    },
    {
      "cell_type": "code",
      "source": [
        "# Missing Values/Null Values Count for provider dataset\n",
        "df_provider.isnull().sum()\n"
      ],
      "metadata": {
        "id": "GgHWkxvamxVg"
      },
      "execution_count": null,
      "outputs": []
    },
    {
      "cell_type": "code",
      "source": [
        "# Missing Values/Null Values Count for claims dataset\n",
        "df_claims.isnull().sum()\n"
      ],
      "metadata": {
        "id": "Jypm8J7lQ80v"
      },
      "execution_count": null,
      "outputs": []
    },
    {
      "cell_type": "code",
      "source": [
        "# Missing Values/Null Values Count for listings dataset\n",
        "df_list.isnull().sum()\n"
      ],
      "metadata": {
        "id": "StIWV5yBQ8sZ"
      },
      "execution_count": null,
      "outputs": []
    },
    {
      "cell_type": "code",
      "source": [
        "# Missing Values/Null Values Count for receivers dataset\n",
        "df_recievers.isnull().sum()\n"
      ],
      "metadata": {
        "id": "xbGBsgmnQ8Am"
      },
      "execution_count": null,
      "outputs": []
    },
    {
      "cell_type": "markdown",
      "source": [
        "### What did you know about your dataset?"
      ],
      "metadata": {
        "id": "H0kj-8xxnORC"
      }
    },
    {
      "cell_type": "markdown",
      "source": [
        "Dataset Overview\n",
        "\n",
        "Four datasets: Providers, Claims, Listings, and Receivers.\n",
        "\n",
        "Each dataset has 1,000 rows.\n",
        "\n",
        "Providers: 6 columns, no duplicates.\n",
        "\n",
        "Claims: 5 columns, no duplicates.\n",
        "\n",
        "Listings: 9 columns, no duplicates.\n",
        "\n",
        "Receivers: 5 columns, no duplicates.\n",
        "\n",
        "\n",
        "---\n",
        "\n",
        "\n",
        "Column Information\n",
        "\n",
        "Providers Dataset: Provider_ID, Name, Type, Address, City, Contact.\n",
        "\n",
        "Claims Dataset: Claim_ID, Food_ID, Receiver_ID, Status, Timestamp.\n",
        "\n",
        "Listings Dataset: Food_ID, Food_Name, Quantity, Expiry_Date, Provider_ID, Provider_Type, Location, Food_Type, Meal_Type.\n",
        "\n",
        "Receivers Dataset: Receiver_ID, Name, Type, City, Contact.\n",
        "\n",
        "\n",
        "---\n",
        "\n",
        "\n",
        "Data Quality\n",
        "\n",
        "No missing/null values.\n",
        "\n",
        "No duplicate rows.\n",
        "\n",
        "\n",
        "---\n",
        "\n",
        "\n",
        "Key Relationships\n",
        "\n",
        "Provider_ID links Providers and Listings.\n",
        "\n",
        "Receiver_ID links Receivers and Claims.\n",
        "\n",
        "Food_ID links Listings and Claims.\n",
        "\n",
        "\n",
        "---\n",
        "\n",
        "\n",
        "Overall Observation\n",
        "\n",
        "Data is clean, well-structured, and ready for analysis or integration into the Streamlit applications."
      ],
      "metadata": {
        "id": "gfoNAAC-nUe_"
      }
    },
    {
      "cell_type": "markdown",
      "source": [
        "## ***2. Understanding Your Variables***"
      ],
      "metadata": {
        "id": "nA9Y7ga8ng1Z"
      }
    },
    {
      "cell_type": "code",
      "source": [
        "# Dataset Columns for provider dataset\n",
        "df_provider.columns"
      ],
      "metadata": {
        "id": "j7xfkqrt5Ag5"
      },
      "execution_count": null,
      "outputs": []
    },
    {
      "cell_type": "code",
      "source": [
        "# Dataset Columns for claims dataset\n",
        "df_claims.columns"
      ],
      "metadata": {
        "id": "WQzvzIhpRgi4"
      },
      "execution_count": null,
      "outputs": []
    },
    {
      "cell_type": "code",
      "source": [
        "# Dataset Columns for listings dataset\n",
        "df_list.columns"
      ],
      "metadata": {
        "id": "YUzvsKHlRjbb"
      },
      "execution_count": null,
      "outputs": []
    },
    {
      "cell_type": "code",
      "source": [
        "# Dataset Columns for receivers dataset\n",
        "df_recievers.columns"
      ],
      "metadata": {
        "id": "ry2qwbZNSi5I"
      },
      "execution_count": null,
      "outputs": []
    },
    {
      "cell_type": "markdown",
      "source": [
        "### Check Unique Values for each variable. in provider dataset"
      ],
      "metadata": {
        "id": "u3PMJOP6ngxN"
      }
    },
    {
      "cell_type": "code",
      "source": [
        "# Check Unique Values for each variable.\n",
        "df_provider.nunique()\n"
      ],
      "metadata": {
        "id": "zms12Yq5n-jE"
      },
      "execution_count": null,
      "outputs": []
    },
    {
      "cell_type": "markdown",
      "source": [
        "### Check Unique Values for each variable. in claims dataset"
      ],
      "metadata": {
        "id": "u2mHwFwSQkdq"
      }
    },
    {
      "cell_type": "code",
      "source": [
        "# Check Unique Values for each variable.\n",
        "df_claims.nunique()\n"
      ],
      "metadata": {
        "id": "TRv4wiDjQs2Y"
      },
      "execution_count": null,
      "outputs": []
    },
    {
      "cell_type": "markdown",
      "source": [
        "### Check Unique Values for each variable. in food listings dataset"
      ],
      "metadata": {
        "id": "iAMQUQqxQt3P"
      }
    },
    {
      "cell_type": "code",
      "source": [
        "# Check Unique Values for each variable.\n",
        "df_list.nunique()\n"
      ],
      "metadata": {
        "id": "DXH8WNL1Q1uI"
      },
      "execution_count": null,
      "outputs": []
    },
    {
      "cell_type": "markdown",
      "source": [
        "### Check Unique Values for each variable. in receivers dataset"
      ],
      "metadata": {
        "id": "uwTJ_SmeQ2k7"
      }
    },
    {
      "cell_type": "code",
      "source": [
        "# Check Unique Values for each variable.\n",
        "df_recievers.nunique()\n"
      ],
      "metadata": {
        "id": "WC1kRhLlQ6LM"
      },
      "execution_count": null,
      "outputs": []
    },
    {
      "cell_type": "markdown",
      "source": [
        "## 3. ***Data Wrangling***"
      ],
      "metadata": {
        "id": "dauF4eBmngu3"
      }
    },
    {
      "cell_type": "markdown",
      "source": [
        "### Data Wrangling Code for provider dataset"
      ],
      "metadata": {
        "id": "bKJF3rekwFvQ"
      }
    },
    {
      "cell_type": "code",
      "source": [
        "# Remove part after 'x' or 'X'\n",
        "df_provider['Contact'] = df_provider['Contact'].astype(str).str.split(r'[xX]').str[0]\n"
      ],
      "metadata": {
        "id": "wk-9a2fpoLcV"
      },
      "execution_count": null,
      "outputs": []
    },
    {
      "cell_type": "markdown",
      "source": [
        "### Data Wrangling Code for claims dataset"
      ],
      "metadata": {
        "id": "8FOb23Dp-3wc"
      }
    },
    {
      "cell_type": "code",
      "source": [
        "df_claims['Timestamp'] = pd.to_datetime(df_claims['Timestamp'], errors='coerce')\n"
      ],
      "metadata": {
        "id": "15GNAeiH-H3q"
      },
      "execution_count": null,
      "outputs": []
    },
    {
      "cell_type": "markdown",
      "source": [
        "### Data Wrangling Code for listings dataset"
      ],
      "metadata": {
        "id": "QHN4hN3GLmBo"
      }
    },
    {
      "cell_type": "code",
      "source": [
        "df_list['Expiry_Date'] = pd.to_datetime(df_list['Expiry_Date'], errors='coerce')\n"
      ],
      "metadata": {
        "id": "bTQx04sNLmjR"
      },
      "execution_count": null,
      "outputs": []
    },
    {
      "cell_type": "markdown",
      "source": [
        "### Data Wrangling Code for receivers dataset"
      ],
      "metadata": {
        "id": "lmS0iT0bMR8o"
      }
    },
    {
      "cell_type": "code",
      "source": [
        "# Remove part after 'x' or 'X'\n",
        "df_recievers['Contact'] = df_recievers['Contact'].astype(str).str.split(r'[xX]').str[0]\n"
      ],
      "metadata": {
        "id": "bhC-LntXMSay"
      },
      "execution_count": null,
      "outputs": []
    },
    {
      "cell_type": "markdown",
      "source": [
        "### Exporting The cleaned dataset as CSV Files"
      ],
      "metadata": {
        "id": "3dhYje6mRLku"
      }
    },
    {
      "cell_type": "code",
      "source": [
        "# Example: exporting to Excel\n",
        "df_claims.to_csv(\"new_claims_data.csv\", index=False)\n"
      ],
      "metadata": {
        "id": "IulnbfgRNQRD"
      },
      "execution_count": null,
      "outputs": []
    },
    {
      "cell_type": "code",
      "source": [
        "# Example: exporting to Excel\n",
        "df_provider.to_csv(\"new_providers_data.csv\", index=False)\n"
      ],
      "metadata": {
        "id": "cvvchL65NeLq"
      },
      "execution_count": null,
      "outputs": []
    },
    {
      "cell_type": "code",
      "source": [
        "# Example: exporting to Excel\n",
        "df_list.to_csv(\"new_food_listing_data.csv\", index=False)\n"
      ],
      "metadata": {
        "id": "8pNzCiV7Nek5"
      },
      "execution_count": null,
      "outputs": []
    },
    {
      "cell_type": "code",
      "source": [
        "# Example: exporting to Excel\n",
        "df_recievers.to_csv(\"new_receivers_data.csv\", index=False)\n"
      ],
      "metadata": {
        "id": "ys5Cn-V2NfAS"
      },
      "execution_count": null,
      "outputs": []
    },
    {
      "cell_type": "markdown",
      "source": [
        "### What all manipulations have you done and insights you found?"
      ],
      "metadata": {
        "id": "MSa1f5Uengrz"
      }
    },
    {
      "cell_type": "markdown",
      "source": [
        "In the Providers dataset, converted the Contact column to string and removed any part after the character x or X.\n",
        "\n",
        "\n",
        "---\n",
        "\n",
        "\n",
        "In the Claims dataset, converted the Timestamp column to datetime format, coercing invalid values to NaT.\n",
        "\n",
        "\n",
        "---\n",
        "\n",
        "\n",
        "In the Listings dataset, converted the Expiry_Date column to datetime format, coercing invalid values to NaT.\n",
        "\n",
        "\n",
        "---\n",
        "\n",
        "\n",
        "In the Receivers dataset, converted the Contact column to string and removed any part after the character x or X."
      ],
      "metadata": {
        "id": "LbyXE7I1olp8"
      }
    },
    {
      "cell_type": "markdown",
      "source": [
        "## **5. Solution to Business Objective**"
      ],
      "metadata": {
        "id": "JcMwzZxoAimU"
      }
    },
    {
      "cell_type": "markdown",
      "source": [
        "#### What do you suggest the client to achieve Business Objective ?\n",
        "Explain Briefly."
      ],
      "metadata": {
        "id": "8G2x9gOozGDZ"
      }
    },
    {
      "cell_type": "markdown",
      "source": [
        "1. Build a Reliable Data Foundation\n",
        "\n",
        "Data Cleaning & Standardization: Ensure provider, receiver, and food listing datasets are clean (consistent names, dates, and contact formats).\n",
        "Database Setup: Store food, providers, receivers, and claims in an SQL database with relationships for easy querying.\n",
        "\n",
        "2. Strengthen the Matching Process\n",
        "\n",
        "Smart Matching Algorithm:\n",
        "Match receivers with providers based on location proximity, food type, and expiry urgency.\n",
        "Prioritize food that is closest to expiry for quick redistribution.\n",
        "Automated Notifications: Alert receivers when new food is available nearby.\n",
        "\n",
        "3. Optimize Food Redistribution\n",
        "\n",
        "City-Level Insights: Identify which cities have the highest surplus food and which have highest demand.\n",
        "Food Type & Meal Trends: Track which food categories (Veg, Non-Veg, Vegan) and meal types (Breakfast, Lunch, Dinner) are in most demand.\n",
        "Expiry Monitoring: Highlight food nearing expiry to encourage faster claims.\n",
        "\n",
        "4. Enhance User Experience with Streamlit\n",
        "\n",
        "Interactive Dashboard:\n",
        "Filters by city, provider type, food type, and meal type.\n",
        "Real-time food availability display.\n",
        "Direct Contact Options: Show provider/receiver contact details for immediate coordination.\n",
        "CRUD Functionality: Allow providers and receivers to add, update, or remove records easily.\n",
        "\n",
        "5. Data-Driven Decision Making\n",
        "\n",
        "SQL Query Insights: Use the 15+ queries to answer key questions like:\n",
        "Which provider contributes the most?\n",
        "What percentage of claims are completed vs. canceled?\n",
        "Which receivers are most active?\n",
        "Trend Reports: Generate monthly reports on wastage reduction, successful claims, and top cities for food redistribution.\n",
        "\n",
        "6. Long-Term Growth Strategies\n",
        "\n",
        "Partnerships: Partner with restaurants, grocery stores, NGOs, and community centers.\n",
        "Scalability: Use geolocation APIs to expand across multiple cities.\n",
        "Sustainability Goals: Showcase the project’s contribution to UN Sustainable Development Goals (SDG 2: Zero Hunger, SDG 12: Responsible Consumption & Production) to attract CSR funding."
      ],
      "metadata": {
        "id": "pASKb0qOza21"
      }
    },
    {
      "cell_type": "markdown",
      "source": [
        "# **Conclusion**"
      ],
      "metadata": {
        "id": "gCX9965dhzqZ"
      }
    },
    {
      "cell_type": "markdown",
      "source": [
        "The Local Food Wastage Management System successfully bridges the gap between surplus food providers and those in need, offering a practical and scalable solution to reduce food waste while supporting community welfare.\n",
        "By integrating data analytics, real-time tracking, and user-friendly interfaces, the system ensures that food redistribution is efficient, transparent, and impactful.\n",
        "\n",
        "\n",
        "---\n",
        "\n",
        "\n",
        "With its dual deployment modes — CSV-based for cloud and SQL-based for on-premise — the platform remains flexible for different infrastructure needs.\n",
        "The insights generated from 15+ SQL queries empower stakeholders to make informed decisions, improve distribution strategies, and address food insecurity more effectively.\n",
        "\n",
        "\n",
        "---\n",
        "\n",
        "\n",
        "This project demonstrates how technology and social good can work hand in hand to tackle global challenges, setting the stage for future enhancements such as map-based search, AI-driven demand forecasting, and mobile accessibility."
      ],
      "metadata": {
        "id": "Fjb1IsQkh3yE"
      }
    }
  ]
}